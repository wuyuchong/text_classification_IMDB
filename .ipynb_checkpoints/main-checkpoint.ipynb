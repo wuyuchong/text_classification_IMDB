{
 "cells": [
  {
   "cell_type": "markdown",
   "id": "07c2683c",
   "metadata": {
    "id": "IZ6SNYq_tVVC",
    "tags": []
   },
   "source": [
    "# IMDB 文本分类和模型比较\n",
    "\n",
    "**摘要：**我们使用 IMDB 数据集进行文本分类。在文本预处理阶段，我们尝试使用词编码和词向量的方式，在训练阶段，我们构建了 DNN、LSTM、BERT 等多个深度学习模型进行训练，并进行了模型比较，最高达到了 99% 的准确率。最后，为了进一步实现在超大文本集上进行训练，我们使用基于 Spark 的分布式算法在集群服务器上进行训练测试。\n",
    "\n",
    "\n",
    "\n",
    "| 模型         | 计算配置 | 用时 | 准确率 | 可拓展性 |\n",
    "| ----------- | ----------- | ------ | ------ | --- |\n",
    "| tokenize + DNN  |阿里云服务器 Xeon 8 核 CPU 32G 内存| 10  分钟 | 60% | 低-单机 |\n",
    "| Word2Vec + LSTM  |阿里云服务器 Xeon 8 核 CPU 32G 内存| 2 小时| 80% | 低-单机 |\n",
    "| bert - 小型       |阿里云服务器 Xeon 8 核 CPU 32G 内存| 1  小时 | 90% | 低-单机 |\n",
    "| bert - AL        |阿里云服务器 Xeon 8 核 CPU 32G 内存| 1.5  小时 | 90% | 低-单机 |\n",
    "| bert - 标准      |阿里云服务器 Xeon 8 核 CPU 32G 内存| 3  小时 | 92% | 低-单机 |\n",
    "| spark            |中央财经大学大数据高性能分布式集群    | --  分钟 | -% | 高-集群 |\n",
    "\n",
    "> 分布式模型在该小型数据集上没有优势，进行此项的意义在于对大型文本数据集可拓展性的技术储备，仅有在文本量级超过单机可承载上限时，分布式计算才具备意义\n",
    "\n",
    "> 注意：请勿在低配置计算机上运行该笔记本"
   ]
  },
  {
   "cell_type": "markdown",
   "id": "e6a64de8",
   "metadata": {
    "id": "SCjmX4zTCkRK"
   },
   "source": [
    "## 环境安装及设置\n",
    "\n",
    "请预先安装以下模块：\n",
    "\n",
    "- tensorflow (2.0以上版本）\n",
    "- tensorflow-text（用于文字预处理）\n",
    "- tf-models-official"
   ]
  },
  {
   "cell_type": "code",
   "execution_count": 1,
   "id": "cc1ee36b",
   "metadata": {
    "collapsed": false,
    "id": "_XgTpm9ZxoN9",
    "jupyter": {
     "outputs_hidden": false
    },
    "tags": []
   },
   "outputs": [
    {
     "name": "stderr",
     "output_type": "stream",
     "text": [
      "2022-01-16 15:01:40.617373: W tensorflow/stream_executor/platform/default/dso_loader.cc:64] Could not load dynamic library 'libcudart.so.11.0'; dlerror: libcudart.so.11.0: cannot open shared object file: No such file or directory\n",
      "2022-01-16 15:01:40.617424: I tensorflow/stream_executor/cuda/cudart_stub.cc:29] Ignore above cudart dlerror if you do not have a GPU set up on your machine.\n"
     ]
    }
   ],
   "source": [
    "import os\n",
    "import pydot\n",
    "import shutil\n",
    "import itertools\n",
    "import numpy as np\n",
    "import pandas as pd\n",
    "import tensorflow as tf\n",
    "import tensorflow_hub as hub\n",
    "import tensorflow_text as text\n",
    "import matplotlib.pyplot as plt\n",
    "from official.nlp import optimization\n",
    "from sklearn.metrics import confusion_matrix\n",
    "from sklearn.preprocessing import LabelEncoder\n",
    "from sklearn.model_selection import train_test_split\n",
    "\n",
    "tf.get_logger().setLevel('ERROR')"
   ]
  },
  {
   "cell_type": "markdown",
   "id": "788d559c",
   "metadata": {},
   "source": [
    "## 数据处理\n",
    "\n",
    "### 标签处理\n",
    "\n",
    "我们将分类列由类别名称转为数字"
   ]
  },
  {
   "cell_type": "code",
   "execution_count": 2,
   "id": "02214fa8",
   "metadata": {
    "collapsed": false,
    "id": "6IwI_2bcIeX8",
    "jupyter": {
     "outputs_hidden": false
    },
    "tags": []
   },
   "outputs": [
    {
     "data": {
      "text/plain": [
       "array(['negative', 'positive'], dtype=object)"
      ]
     },
     "execution_count": 2,
     "metadata": {},
     "output_type": "execute_result"
    }
   ],
   "source": [
    "# ------------------> 加载数据\n",
    "dat = pd.read_csv('./data/IMDB.csv')\n",
    "\n",
    "# ------------------> 标签处理\n",
    "encoder = LabelEncoder()\n",
    "encoder.fit(dat['sentiment'])\n",
    "y = encoder.transform(dat['sentiment'])\n",
    "text_labels = encoder.classes_\n",
    "text_labels"
   ]
  },
  {
   "cell_type": "markdown",
   "id": "82b538b1",
   "metadata": {},
   "source": [
    "### 数据集划分\n",
    "\n",
    "随机划分 20% 的测试集，再从训练集中划分 20% 的验证集"
   ]
  },
  {
   "cell_type": "code",
   "execution_count": 3,
   "id": "e03d4cea",
   "metadata": {
    "collapsed": false,
    "jupyter": {
     "outputs_hidden": false
    },
    "tags": []
   },
   "outputs": [],
   "source": [
    "X_train, X_test, y_train, y_test = train_test_split(\n",
    "    dat['review'], y, test_size=0.2, random_state=1)\n",
    "X_train, X_val, y_train, y_val = train_test_split(\n",
    "    X_train, y_train, test_size=0.2, random_state=1)"
   ]
  },
  {
   "cell_type": "markdown",
   "id": "cd6055dd",
   "metadata": {
    "tags": []
   },
   "source": [
    "### 数据集格式转换\n",
    "\n",
    "我们将数据集转换为 `tf.data.Dataset` 的格式，使用自动的缓冲区大小，使用 32 的 `batch size`\n",
    "\n",
    "batch size 的大小与模型的收敛速度和随机梯度噪音有关。当 batch size 过小时，在一定的迭代次数下，模型来不及收敛。当 batch size 过大时，一方面容易出现内存紧缺，另一方面模型的泛化能力会变差。"
   ]
  },
  {
   "cell_type": "code",
   "execution_count": 4,
   "id": "d83c6c40",
   "metadata": {
    "collapsed": false,
    "jupyter": {
     "outputs_hidden": false
    }
   },
   "outputs": [
    {
     "name": "stderr",
     "output_type": "stream",
     "text": [
      "2022-01-16 15:01:43.470445: W tensorflow/stream_executor/platform/default/dso_loader.cc:64] Could not load dynamic library 'libcuda.so.1'; dlerror: libcuda.so.1: cannot open shared object file: No such file or directory\n",
      "2022-01-16 15:01:43.470481: W tensorflow/stream_executor/cuda/cuda_driver.cc:269] failed call to cuInit: UNKNOWN ERROR (303)\n",
      "2022-01-16 15:01:43.470503: I tensorflow/stream_executor/cuda/cuda_diagnostics.cc:156] kernel driver does not appear to be running on this host (nlp): /proc/driver/nvidia/version does not exist\n",
      "2022-01-16 15:01:43.470806: I tensorflow/core/platform/cpu_feature_guard.cc:151] This TensorFlow binary is optimized with oneAPI Deep Neural Network Library (oneDNN) to use the following CPU instructions in performance-critical operations:  AVX2 AVX512F FMA\n",
      "To enable them in other operations, rebuild TensorFlow with the appropriate compiler flags.\n"
     ]
    }
   ],
   "source": [
    "AUTOTUNE = tf.data.AUTOTUNE\n",
    "batch_size = 32\n",
    "\n",
    "raw_train_ds = tf.data.Dataset.from_tensor_slices((X_train.values, y_train))\n",
    "raw_val_ds = tf.data.Dataset.from_tensor_slices((X_val.values, y_val))\n",
    "raw_test_ds = tf.data.Dataset.from_tensor_slices((X_test.values, y_test))\n",
    "\n",
    "train_ds = raw_train_ds.cache().prefetch(buffer_size=AUTOTUNE).batch(batch_size)\n",
    "val_ds = raw_val_ds.cache().prefetch(buffer_size=AUTOTUNE).batch(batch_size)\n",
    "test_ds = raw_test_ds.cache().prefetch(buffer_size=AUTOTUNE).batch(batch_size)"
   ]
  },
  {
   "cell_type": "markdown",
   "id": "8f91c836",
   "metadata": {
    "id": "HGm10A5HRGXp"
   },
   "source": [
    "我们对数据集进行预览"
   ]
  },
  {
   "cell_type": "code",
   "execution_count": 5,
   "id": "ac12beed",
   "metadata": {
    "collapsed": false,
    "id": "JuxDkcvVIoev",
    "jupyter": {
     "outputs_hidden": false
    },
    "tags": []
   },
   "outputs": [
    {
     "name": "stdout",
     "output_type": "stream",
     "text": [
      "Review: b\"This is like something I have NEVER seen before. It had me cracking up the whole time I don't think there was one scene that I didn't laugh through. It is about a girl from the country in South who goes off to a big town for college. At the school she befriends the RA across the hall. When she realizes that he has no family to go to for Thanksgiving she invites him to come home with her. Rabecca and her family and her serious boyfriend all go out to dinner one night and Becca realizes what her boyfriend is about to do...Propose. She urges Cral to do something so he stands up and shouts something like... Sorry mate but you are too late I already asked Becca to marry me a couple of weeks ago back at the school and she said yes. That all turns into Chaos. Please watch this classic it is totally worth it... I swear.\"\n",
      "Label : 1 (positive)\n",
      "Review: b'I managed to see this at the New York International Film Festival in November 2005 with my boyfriend. We were both quite impressed with the complexity of the plot and found it to be emotionally moving. It was very well directed with strong imagery. The visual effects were amazing - especially for a short. It had an original fantasy approach to a very real and serious topic: This film is about a young girl who is visited by a demon offering to help her situation with her abusive father. There is also a surprise twist at the end which caught me off guard. This leans towards the Gothic feel. I would love to see this as a full feature film. -- Carrie'\n",
      "Label : 1 (positive)\n"
     ]
    },
    {
     "name": "stderr",
     "output_type": "stream",
     "text": [
      "2022-01-16 15:01:43.657364: W tensorflow/core/kernels/data/cache_dataset_ops.cc:768] The calling iterator did not fully read the dataset being cached. In order to avoid unexpected truncation of the dataset, the partially cached contents of the dataset  will be discarded. This can happen if you have an input pipeline similar to `dataset.cache().take(k).repeat()`. You should use `dataset.take(k).cache().repeat()` instead.\n"
     ]
    }
   ],
   "source": [
    "for text_batch, label_batch in train_ds.take(1):\n",
    "  for i in range(2):\n",
    "    print(f'Review: {text_batch.numpy()[i]}')\n",
    "    label = label_batch.numpy()[i]\n",
    "    print(f'Label : {label} ({text_labels[label]})')"
   ]
  },
  {
   "cell_type": "markdown",
   "id": "0815328b",
   "metadata": {},
   "source": [
    "# Tokenize + DNN"
   ]
  },
  {
   "cell_type": "markdown",
   "id": "d3fd2281",
   "metadata": {},
   "source": [
    "## 文本预处理"
   ]
  },
  {
   "cell_type": "code",
   "execution_count": null,
   "id": "13562c51",
   "metadata": {
    "collapsed": false,
    "jupyter": {
     "outputs_hidden": false
    }
   },
   "outputs": [],
   "source": [
    "max_words = 1000\n",
    "tokenize = tf.keras.preprocessing.text.Tokenizer(num_words=max_words, \n",
    "                                              char_level=False)\n",
    "tokenize.fit_on_texts(X_train) # fit tokenizer to our training text data\n",
    "x_train_token = tokenize.texts_to_matrix(X_train)\n",
    "x_test_token = tokenize.texts_to_matrix(X_test)\n",
    "y_train_token = y_train\n",
    "y_test_token = y_test\n",
    "print('x_train shape:', x_train_token.shape)\n",
    "print('x_test shape:', x_test_token.shape)\n",
    "print('y_train shape:', y_train_token.shape)\n",
    "print('y_test shape:', y_test_token.shape)"
   ]
  },
  {
   "cell_type": "markdown",
   "id": "e62a7996",
   "metadata": {},
   "source": [
    "## 模型结构"
   ]
  },
  {
   "cell_type": "markdown",
   "id": "ba7d755b",
   "metadata": {},
   "source": [
    "经过多次调参，我们发现增大全连接层输出的维度能有效提升准确率。\n",
    "\n",
    "为了减轻训练过程中的过拟合现象，我们使用 dropout 方法来增强神经元的协同适应能力。我们在输入层和中间层分别加入 50% dropout ，即每个神经元有 50% 的概率被随机剔除。由于输出层是我们所需的结果，不使用 dropout 方法。"
   ]
  },
  {
   "cell_type": "code",
   "execution_count": null,
   "id": "8867b4d4",
   "metadata": {
    "collapsed": false,
    "jupyter": {
     "outputs_hidden": false
    }
   },
   "outputs": [],
   "source": [
    "batch_size = 32\n",
    "epochs = 100 \n",
    "drop_ratio = 0.5\n",
    "\n",
    "\n",
    "model = tf.keras.models.Sequential()\n",
    "model.add(tf.keras.layers.Dense(512, input_shape=(max_words,)))\n",
    "model.add(tf.keras.layers.Activation('relu'))\n",
    "model.add(tf.keras.layers.Dropout(drop_ratio))\n",
    "model.add(tf.keras.layers.Dense(512))\n",
    "model.add(tf.keras.layers.Activation('relu'))\n",
    "model.add(tf.keras.layers.Dropout(drop_ratio))\n",
    "model.add(tf.keras.layers.Dense(1))\n",
    "model.add(tf.keras.layers.Activation('relu'))\n",
    "\n",
    "\n",
    "model.compile(loss='binary_crossentropy',\n",
    "              optimizer='adam',\n",
    "              metrics=['accuracy'])\n",
    "\n",
    "model.summary()"
   ]
  },
  {
   "cell_type": "markdown",
   "id": "88ee6857",
   "metadata": {},
   "source": [
    "## 训练模型\n",
    "\n",
    "正常情况下，随着训练迭代次数的增加，损失函数逐渐减小，对训练集的拟合越来越趋向于精细。然而过度精细的拟合容易导致模型的泛化能力变差，即当模型用于之前未曾训练过的数据时表现很差。为了观测这种情况，我们需要划分一部分数据与用于训练的数据隔开，这便是我们划分验证集的原因之一。\n",
    "\n",
    "为了防止模型过拟合，我们设定在验证集准确率连续三次迭代不再上升时提前终止训练。"
   ]
  },
  {
   "cell_type": "code",
   "execution_count": null,
   "id": "56b1aaee",
   "metadata": {
    "collapsed": false,
    "jupyter": {
     "outputs_hidden": false
    }
   },
   "outputs": [],
   "source": [
    "callback = tf.keras.callbacks.EarlyStopping(monitor='accuracy', patience=3)\n",
    "history = model.fit(x_train_token, y_train_token,\n",
    "                    batch_size=batch_size,\n",
    "                    epochs=epochs,\n",
    "                    verbose=1,\n",
    "                    callbacks=[callback],\n",
    "                    validation_split=0.1)"
   ]
  },
  {
   "cell_type": "markdown",
   "id": "4a4445ed",
   "metadata": {},
   "source": [
    "## 模型评价"
   ]
  },
  {
   "cell_type": "code",
   "execution_count": null,
   "id": "74930f71",
   "metadata": {
    "collapsed": false,
    "jupyter": {
     "outputs_hidden": false
    }
   },
   "outputs": [],
   "source": [
    "score = model.evaluate(x_test_token, y_test_token,\n",
    "                       batch_size=batch_size, verbose=1)\n",
    "print('Test loss:', score[0])\n",
    "print('Test accuracy:', score[1])"
   ]
  },
  {
   "cell_type": "markdown",
   "id": "393dfdfc",
   "metadata": {},
   "source": [
    "# Word2Vec + LSTM"
   ]
  },
  {
   "cell_type": "markdown",
   "id": "11c0d39e",
   "metadata": {},
   "source": [
    "## 文本预处理\n",
    "\n",
    "我们建立词字典进行词编码，字典的大小限制在 1000 词"
   ]
  },
  {
   "cell_type": "code",
   "execution_count": null,
   "id": "700b6407",
   "metadata": {
    "collapsed": false,
    "jupyter": {
     "outputs_hidden": false
    }
   },
   "outputs": [],
   "source": [
    "VOCAB_SIZE = 1000\n",
    "encoder = tf.keras.layers.TextVectorization(\n",
    "    max_tokens=VOCAB_SIZE)\n",
    "encoder.adapt(train_ds.map(lambda text, label: text))\n",
    "vocab = np.array(encoder.get_vocabulary())\n",
    "vocab[:20]"
   ]
  },
  {
   "cell_type": "markdown",
   "id": "3e2cb0cb",
   "metadata": {},
   "source": [
    "编码的长度由所有文本中最长的文本决定"
   ]
  },
  {
   "cell_type": "code",
   "execution_count": null,
   "id": "eebc4e0f",
   "metadata": {
    "collapsed": false,
    "jupyter": {
     "outputs_hidden": false
    }
   },
   "outputs": [],
   "source": [
    "encoded_example = encoder(text_batch)[:3].numpy()\n",
    "encoded_example"
   ]
  },
  {
   "cell_type": "markdown",
   "id": "cfef61a9",
   "metadata": {},
   "source": [
    "打印示例："
   ]
  },
  {
   "cell_type": "raw",
   "id": "abd8e695",
   "metadata": {
    "tags": []
   },
   "source": [
    "for n in range(3):\n",
    "  print(\"Original: \", text_batch[n].numpy())\n",
    "  print(\"Round-trip: \", \" \".join(vocab[encoded_example[n]]))\n",
    "  print()"
   ]
  },
  {
   "cell_type": "markdown",
   "id": "881d0341",
   "metadata": {},
   "source": [
    "## 模型结构"
   ]
  },
  {
   "cell_type": "markdown",
   "id": "edb7796a",
   "metadata": {},
   "source": [
    "1. 第一层为 `Embedding` 层，我们使用 `word2vec` 方法将单词编码转换为词向量。这些词向量经过训练，对于意思相近的词，其向量夹角小。\n",
    "2. 第二层使用双向的长短期记忆层。长短期记忆网络层是一种特殊的循环神经网络层，它能够减轻长序列训练过程中的梯度消失和梯度爆炸问题，适合此处词向量长度较长的情况。它遍历序列中的每个元素作为输入，按照时间顺序传递输出。由于我们使用双向结构，最终结果由输入的前向和后向传递共同决定，这使得最前端的输入不必通过漫长的处理步数才能影响到最终结果，有效的提高了训练在文本中的均匀度。\n",
    "3. 第三层为全连接层，由于在多层神经网络中梯度容易在深层网络中变得极小，使得参数无法正常更新，所以我们使用 `RELU` 作为激活函数解决梯度消失问题。\n",
    "4. 第四层为输出维度为 5 的输出层，为了得到多分类的概率值，使用 `softmax` 函数将输出值压缩至 0 - 1 的范围内。"
   ]
  },
  {
   "cell_type": "code",
   "execution_count": null,
   "id": "3dc3ad1a",
   "metadata": {
    "collapsed": false,
    "jupyter": {
     "outputs_hidden": false
    }
   },
   "outputs": [],
   "source": [
    "model = tf.keras.Sequential([\n",
    "    encoder,\n",
    "    tf.keras.layers.Embedding(\n",
    "        input_dim=len(encoder.get_vocabulary()),\n",
    "        output_dim=64,\n",
    "        # Use masking to handle the variable sequence lengths\n",
    "        mask_zero=True),\n",
    "    tf.keras.layers.Bidirectional(tf.keras.layers.LSTM(64)),\n",
    "    tf.keras.layers.Dense(64, activation='relu'),\n",
    "    tf.keras.layers.Dense(1)\n",
    "])\n",
    "model.summary()"
   ]
  },
  {
   "cell_type": "code",
   "execution_count": null,
   "id": "dcf40ae9",
   "metadata": {
    "collapsed": false,
    "jupyter": {
     "outputs_hidden": false
    },
    "tags": []
   },
   "outputs": [],
   "source": [
    "model.compile(loss=tf.keras.losses.BinaryCrossentropy(from_logits=True),\n",
    "              optimizer=tf.keras.optimizers.Adam(1e-4),\n",
    "              metrics=['accuracy'])"
   ]
  },
  {
   "cell_type": "markdown",
   "id": "e8919308",
   "metadata": {
    "tags": []
   },
   "source": [
    "## 训练模型"
   ]
  },
  {
   "cell_type": "code",
   "execution_count": null,
   "id": "095c6547",
   "metadata": {
    "collapsed": false,
    "jupyter": {
     "outputs_hidden": false
    },
    "tags": []
   },
   "outputs": [],
   "source": [
    "history = model.fit(train_ds, epochs=4,\n",
    "                    validation_data=val_ds,\n",
    "                    validation_steps=30)"
   ]
  },
  {
   "cell_type": "code",
   "execution_count": null,
   "id": "c0c917c3",
   "metadata": {
    "collapsed": false,
    "jupyter": {
     "outputs_hidden": false
    },
    "tags": []
   },
   "outputs": [],
   "source": [
    "def plot_graphs(history, metric):\n",
    "  plt.plot(history.history[metric])\n",
    "  plt.plot(history.history['val_'+metric], '')\n",
    "  plt.xlabel(\"Epochs\")\n",
    "  plt.ylabel(metric)\n",
    "  plt.legend([metric, 'val_'+metric])\n",
    "\n",
    "plt.figure(figsize=(16, 8))\n",
    "plt.subplot(1, 2, 1)\n",
    "plot_graphs(history, 'accuracy')\n",
    "plt.ylim(None, 1)\n",
    "plt.subplot(1, 2, 2)\n",
    "plot_graphs(history, 'loss')\n",
    "plt.ylim(0, None)\n",
    "plt.savefig('./figure/word2vec_lstm.png')\n",
    "plt.show()"
   ]
  },
  {
   "cell_type": "markdown",
   "id": "742953f7",
   "metadata": {},
   "source": [
    "## 模型评价"
   ]
  },
  {
   "cell_type": "code",
   "execution_count": null,
   "id": "2e7dda7a",
   "metadata": {
    "collapsed": false,
    "jupyter": {
     "outputs_hidden": false
    }
   },
   "outputs": [],
   "source": [
    "test_loss, test_acc = model.evaluate(test_ds)\n",
    "\n",
    "print('Test Loss:', test_loss)\n",
    "print('Test Accuracy:', test_acc)"
   ]
  },
  {
   "cell_type": "markdown",
   "id": "64c40dc5",
   "metadata": {},
   "source": [
    "# BERT"
   ]
  },
  {
   "cell_type": "markdown",
   "id": "ff69f17f",
   "metadata": {
    "id": "2PHBpLPuQdmK"
   },
   "source": [
    "## BERT 简介\n",
    "\n",
    "BERT 是一系列双向文字编码转换模型的总称，用来结合上下文语义计算每个词的词向量，在自然语言处理中被广泛使用。\n",
    "\n",
    "我们使用了前人在超大型语料库上训练的已有基础 BERT 模型，通过迁移学习的方式在我们的 BBC 文本数据集上进行微调。\n"
   ]
  },
  {
   "cell_type": "markdown",
   "id": "21b241eb",
   "metadata": {
    "id": "dX8FtlpGJRE6"
   },
   "source": [
    "## 加载预训练 BERT 模型\n",
    "\n",
    "我们首先使用了一个参数量较少的 small-BERT 模型用于测试，在通过测试后，为了进一步提升模型的准确度，我们使用 al-BERT 进行正式训练。\n",
    "\n",
    "> 在该笔记本中，我们仅展示 small-BERT 版本"
   ]
  },
  {
   "cell_type": "code",
   "execution_count": 6,
   "id": "74da7205",
   "metadata": {
    "collapsed": false,
    "jupyter": {
     "outputs_hidden": false
    }
   },
   "outputs": [],
   "source": [
    "tfhub_handle_encoder = 'https://storage.googleapis.com/tfhub-modules/tensorflow/small_bert/bert_en_uncased_L-4_H-512_A-8/1.tar.gz'\n",
    "tfhub_handle_preprocess = 'https://storage.googleapis.com/tfhub-modules/tensorflow/bert_en_uncased_preprocess/3.tar.gz'"
   ]
  },
  {
   "cell_type": "markdown",
   "id": "311c6b0f",
   "metadata": {
    "id": "7WrcxxTRDdHi"
   },
   "source": [
    "## 预处理模型\n",
    "\n",
    "在 BERT 的输入层，对于原始的文字输入，我们需要将其转换成为数值编码。每一个 BERT 模型都有其严格对应的预处理模型来提升转换效果。\n",
    "\n",
    "我们展示该预处理模型的输出结果，可以看到该预处理模型将输入的向量设为 128 的长度。"
   ]
  },
  {
   "cell_type": "code",
   "execution_count": 7,
   "id": "3e51d667",
   "metadata": {
    "collapsed": false,
    "id": "r9-zCzJpnuwS",
    "jupyter": {
     "outputs_hidden": false
    },
    "tags": []
   },
   "outputs": [
    {
     "name": "stdout",
     "output_type": "stream",
     "text": [
      "Keys       : ['input_word_ids', 'input_mask', 'input_type_ids']\n",
      "Shape      : (1, 128)\n",
      "Word Ids   : [ 101 1996 2034 6251 1012 1996 2117 6251 1012  102    0    0]\n",
      "Input Mask : [1 1 1 1 1 1 1 1 1 1 0 0]\n",
      "Type Ids   : [0 0 0 0 0 0 0 0 0 0 0 0]\n"
     ]
    }
   ],
   "source": [
    "bert_preprocess_model = hub.KerasLayer(tfhub_handle_preprocess)\n",
    "text_test = ['The first sentence. The second sentence.']\n",
    "text_preprocessed = bert_preprocess_model(text_test)\n",
    "\n",
    "print(f'Keys       : {list(text_preprocessed.keys())}')\n",
    "print(f'Shape      : {text_preprocessed[\"input_word_ids\"].shape}')\n",
    "print(f'Word Ids   : {text_preprocessed[\"input_word_ids\"][0, :12]}')\n",
    "print(f'Input Mask : {text_preprocessed[\"input_mask\"][0, :12]}')\n",
    "print(f'Type Ids   : {text_preprocessed[\"input_type_ids\"][0, :12]}')"
   ]
  },
  {
   "cell_type": "markdown",
   "id": "b7e09080",
   "metadata": {
    "id": "DKnLPSEmtp9i"
   },
   "source": [
    "## BERT 模型\n",
    "\n",
    "在进行迁移学习之前，我们先看预训练 BERT 模型的输出格式"
   ]
  },
  {
   "cell_type": "code",
   "execution_count": 8,
   "id": "1951fd1f",
   "metadata": {
    "collapsed": false,
    "id": "_OoF9mebuSZc",
    "jupyter": {
     "outputs_hidden": false
    },
    "tags": []
   },
   "outputs": [
    {
     "name": "stdout",
     "output_type": "stream",
     "text": [
      "Pooled Outputs Shape:(1, 512)\n",
      "Pooled Outputs Values:[ 0.9992781   0.31525105 -0.25964963  0.55944437  0.00783995  0.9791419\n",
      "  0.9977204  -0.9327053  -0.84368324 -0.98138165 -0.4435     -0.9903451 ]\n",
      "Sequence Outputs Shape:(1, 128, 512)\n",
      "Sequence Outputs Values:[[ 0.4488559  -0.5851824  -0.6790177  ... -1.764277   -0.45622617\n",
      "   0.35492766]\n",
      " [ 0.24628739  0.08727125 -1.2822778  ... -2.0664744  -0.27477688\n",
      "  -0.2544793 ]\n",
      " [ 0.43256244  0.5654976  -0.79072297 ... -0.65594614 -0.22825454\n",
      "  -0.04055907]\n",
      " ...\n",
      " [ 1.1035298  -0.97563946  0.19795775 ... -1.2058376   0.00869213\n",
      "   0.69881415]\n",
      " [ 0.25988367 -0.39930332 -0.49941957 ... -1.1005459  -0.14869173\n",
      "   0.27366376]\n",
      " [ 0.18883078 -0.47520044 -0.4314221  ... -1.1670263  -0.05709446\n",
      "   0.17906033]]\n"
     ]
    }
   ],
   "source": [
    "bert_model = hub.KerasLayer(tfhub_handle_encoder)\n",
    "bert_results = bert_model(text_preprocessed)\n",
    "\n",
    "print(f'Pooled Outputs Shape:{bert_results[\"pooled_output\"].shape}')\n",
    "print(f'Pooled Outputs Values:{bert_results[\"pooled_output\"][0, :12]}')\n",
    "print(f'Sequence Outputs Shape:{bert_results[\"sequence_output\"].shape}')\n",
    "print(f'Sequence Outputs Values:{bert_results[\"sequence_output\"][0, :12]}')"
   ]
  },
  {
   "cell_type": "markdown",
   "id": "3d0cab11",
   "metadata": {
    "id": "pDNKfAXbDnJH"
   },
   "source": [
    "## 迁移学习"
   ]
  },
  {
   "cell_type": "code",
   "execution_count": 9,
   "id": "b3b905f4",
   "metadata": {
    "collapsed": false,
    "id": "aksj743St9ga",
    "jupyter": {
     "outputs_hidden": false
    },
    "tags": []
   },
   "outputs": [],
   "source": [
    "def build_classifier_model():\n",
    "  text_input = tf.keras.layers.Input(shape=(), dtype=tf.string, name='text')\n",
    "  preprocessing_layer = hub.KerasLayer(tfhub_handle_preprocess, name='preprocessing')\n",
    "  encoder_inputs = preprocessing_layer(text_input)\n",
    "  encoder = hub.KerasLayer(tfhub_handle_encoder, trainable=True, name='BERT_encoder')\n",
    "  outputs = encoder(encoder_inputs)\n",
    "  net = outputs['pooled_output']\n",
    "  net = tf.keras.layers.Dropout(0.1)(net)\n",
    "  net = tf.keras.layers.Dense(1)(net)\n",
    "  return tf.keras.Model(text_input, net)"
   ]
  },
  {
   "cell_type": "markdown",
   "id": "6d7c1e09",
   "metadata": {
    "id": "Zs4yhFraBuGQ"
   },
   "source": [
    "在开始训练之前，我们测试模型搭建过程是否有误。"
   ]
  },
  {
   "cell_type": "code",
   "execution_count": 10,
   "id": "d57a18a8",
   "metadata": {
    "collapsed": false,
    "id": "mGMF8AZcB2Zy",
    "jupyter": {
     "outputs_hidden": false
    },
    "tags": []
   },
   "outputs": [
    {
     "name": "stdout",
     "output_type": "stream",
     "text": [
      "tf.Tensor([[0.57876587]], shape=(1, 1), dtype=float32)\n"
     ]
    }
   ],
   "source": [
    "classifier_model = build_classifier_model()\n",
    "bert_raw_result = classifier_model(tf.constant(text_test))\n",
    "print(tf.sigmoid(bert_raw_result))"
   ]
  },
  {
   "cell_type": "code",
   "execution_count": 11,
   "id": "d1cda6f7",
   "metadata": {
    "collapsed": false,
    "id": "0EmzyHZXKIpm",
    "jupyter": {
     "outputs_hidden": false
    },
    "tags": []
   },
   "outputs": [
    {
     "data": {
      "image/png": "[encoded data removed]",
      "text/plain": [
       "<IPython.core.display.Image object>"
      ]
     },
     "execution_count": 11,
     "metadata": {},
     "output_type": "execute_result"
    }
   ],
   "source": [
    "tf.keras.utils.plot_model(classifier_model)"
   ]
  },
  {
   "cell_type": "code",
   "execution_count": 12,
   "id": "aa98fcdf",
   "metadata": {
    "collapsed": false,
    "jupyter": {
     "outputs_hidden": false
    }
   },
   "outputs": [
    {
     "name": "stdout",
     "output_type": "stream",
     "text": [
      "Model: \"model\"\n",
      "__________________________________________________________________________________________________\n",
      " Layer (type)                   Output Shape         Param #     Connected to                     \n",
      "==================================================================================================\n",
      " text (InputLayer)              [(None,)]            0           []                               \n",
      "                                                                                                  \n",
      " preprocessing (KerasLayer)     {'input_type_ids':   0           ['text[0][0]']                   \n",
      "                                (None, 128),                                                      \n",
      "                                 'input_mask': (Non                                               \n",
      "                                e, 128),                                                          \n",
      "                                 'input_word_ids':                                                \n",
      "                                (None, 128)}                                                      \n",
      "                                                                                                  \n",
      " BERT_encoder (KerasLayer)      {'sequence_output':  28763649    ['preprocessing[0][0]',          \n",
      "                                 (None, 128, 512),                'preprocessing[0][1]',          \n",
      "                                 'default': (None,                'preprocessing[0][2]']          \n",
      "                                512),                                                             \n",
      "                                 'pooled_output': (                                               \n",
      "                                None, 512),                                                       \n",
      "                                 'encoder_outputs':                                               \n",
      "                                 [(None, 128, 512),                                               \n",
      "                                 (None, 128, 512),                                                \n",
      "                                 (None, 128, 512),                                                \n",
      "                                 (None, 128, 512)]}                                               \n",
      "                                                                                                  \n",
      " dropout (Dropout)              (None, 512)          0           ['BERT_encoder[0][5]']           \n",
      "                                                                                                  \n",
      " dense (Dense)                  (None, 1)            513         ['dropout[0][0]']                \n",
      "                                                                                                  \n",
      "==================================================================================================\n",
      "Total params: 28,764,162\n",
      "Trainable params: 28,764,161\n",
      "Non-trainable params: 1\n",
      "__________________________________________________________________________________________________\n"
     ]
    }
   ],
   "source": [
    "classifier_model.summary()"
   ]
  },
  {
   "cell_type": "markdown",
   "id": "7ca838ec",
   "metadata": {
    "id": "WbUWoZMwc302",
    "tags": []
   },
   "source": [
    "## 训练模型"
   ]
  },
  {
   "cell_type": "markdown",
   "id": "e321b5cb",
   "metadata": {
    "id": "WpJ3xcwDT56v"
   },
   "source": [
    "### 损失函数\n",
    "\n",
    "我们使用交叉熵作为我们的损失函数：\n",
    "\n",
    "$$ -\\sum_{c=1}^My_{o,c}\\log(p_{o,c}) $$\n",
    "\n",
    "其中：\n",
    "\n",
    "- M 是分类数\n",
    "- y 是标签 c 在观测 o 下是否分类正确的 0/1 变量\n",
    "- p 是预测概率"
   ]
  },
  {
   "cell_type": "code",
   "execution_count": null,
   "id": "c5b19059",
   "metadata": {
    "collapsed": false,
    "id": "OWPOZE-L3AgE",
    "jupyter": {
     "outputs_hidden": false
    },
    "tags": []
   },
   "outputs": [],
   "source": [
    "loss = tf.keras.losses.BinaryCrossentropy()\n",
    "metrics = tf.metrics.BinaryAccuracy()"
   ]
  },
  {
   "cell_type": "markdown",
   "id": "015e3d68",
   "metadata": {
    "id": "77psrpfzbxtp"
   },
   "source": [
    "### 学习率\n",
    "\n",
    "由于神经网络刚开始训练时非常不稳定，因此刚开始的学习率应当设置得很低很低，这样可以保证网络能够具有良好的收敛性。但是较低的学习率会使得训练过程变得非常缓慢，因此这里采用从较低学习率逐渐增大至较高学习率的方式实现网络训练前 10% 次迭代的“热身”阶段。一直使用较高学习率是不合适的，因为它会使得权重的梯度一直来回震荡，很难使训练的损失值达到全局最低谷。因此在 warm-up 结束后，我们使用线性减小的学习率。"
   ]
  },
  {
   "cell_type": "code",
   "execution_count": null,
   "id": "a7876fac",
   "metadata": {
    "collapsed": false,
    "id": "P9eP2y9dbw32",
    "jupyter": {
     "outputs_hidden": false
    },
    "tags": []
   },
   "outputs": [],
   "source": [
    "epochs = 5\n",
    "steps_per_epoch = tf.data.experimental.cardinality(train_ds).numpy()\n",
    "num_train_steps = steps_per_epoch * epochs\n",
    "num_warmup_steps = int(0.1*num_train_steps)"
   ]
  },
  {
   "cell_type": "markdown",
   "id": "687eeea6",
   "metadata": {
    "id": "77psrpfzbxtp",
    "tags": []
   },
   "source": [
    "### 优化器\n",
    "\n",
    "在迁移学习时，我们选取的优化器与 BERT 在预训练时的 `Adamw` 优化器保持一致。\n",
    "\n",
    "<img src=\"./figure/Adamw.png\" alt=\"Drawing\" style=\"width: 400px;\"/>\n",
    "\n",
    "Adam 的超收敛性质使其在训练学习率高的神经网络时可以达到节省迭代次数的效果。只要调整得当，Adam 在实践上都能达到 SGD+Momentum 的高准确率，而且速度更快。在几年前人们普遍认为 Adam 的泛化性能不如 SGD+Momentum，然而今年论文表明这通常是由于所选择的超参数不正确导致，通常来说 Adam 需要的正则化比 SGD 更多。"
   ]
  },
  {
   "cell_type": "code",
   "execution_count": null,
   "id": "8344f503",
   "metadata": {
    "collapsed": false,
    "id": "P9eP2y9dbw32",
    "jupyter": {
     "outputs_hidden": false
    },
    "tags": []
   },
   "outputs": [],
   "source": [
    "init_lr = 3e-5\n",
    "optimizer = optimization.create_optimizer(init_lr=init_lr,\n",
    "                                          num_train_steps=num_train_steps,\n",
    "                                          num_warmup_steps=num_warmup_steps,\n",
    "                                          optimizer_type='adamw')"
   ]
  },
  {
   "cell_type": "markdown",
   "id": "0d690780",
   "metadata": {
    "id": "SqlarlpC_v0g"
   },
   "source": [
    "### 开始训练"
   ]
  },
  {
   "cell_type": "code",
   "execution_count": null,
   "id": "be816bbc",
   "metadata": {
    "collapsed": false,
    "id": "HtfDFAnN_Neu",
    "jupyter": {
     "outputs_hidden": false
    },
    "tags": []
   },
   "outputs": [],
   "source": [
    "%%time\n",
    "classifier_model.compile(optimizer=optimizer,\n",
    "                         loss=loss,\n",
    "                         metrics=metrics)\n",
    "print('----- 训练开始 -----')\n",
    "history = classifier_model.fit(x=train_ds,\n",
    "                               validation_data=val_ds,\n",
    "                               epochs=epochs)\n",
    "print('----- 训练完成 -----')"
   ]
  },
  {
   "cell_type": "code",
   "execution_count": null,
   "id": "da36ecc5",
   "metadata": {
    "collapsed": false,
    "id": "fiythcODf0xo",
    "jupyter": {
     "outputs_hidden": false
    },
    "tags": []
   },
   "outputs": [],
   "source": [
    "history_dict = history.history\n",
    "\n",
    "acc = history_dict['binary_accuracy']\n",
    "val_acc = history_dict['val_binary_accuracy']\n",
    "loss = history_dict['loss']\n",
    "val_loss = history_dict['val_loss']\n",
    "\n",
    "epochs = range(1, len(acc) + 1)\n",
    "fig = plt.figure(figsize=(10, 6))\n",
    "fig.tight_layout()\n",
    "\n",
    "plt.subplot(2, 1, 1)\n",
    "# r is for \"solid red line\"\n",
    "plt.plot(epochs, loss, 'r', label='Training loss')\n",
    "# b is for \"solid blue line\"\n",
    "plt.plot(epochs, val_loss, 'b', label='Validation loss')\n",
    "plt.title('Training and validation loss')\n",
    "# plt.xlabel('Epochs')\n",
    "plt.ylabel('Loss')\n",
    "plt.legend()\n",
    "\n",
    "plt.subplot(2, 1, 2)\n",
    "plt.plot(epochs, acc, 'r', label='Training acc')\n",
    "plt.plot(epochs, val_acc, 'b', label='Validation acc')\n",
    "plt.title('Training and validation accuracy')\n",
    "plt.xlabel('Epochs')\n",
    "plt.ylabel('Accuracy')\n",
    "plt.legend(loc='lower right')\n",
    "plt.savefig('./figure/bert_train.png')\n",
    "plt.show()"
   ]
  },
  {
   "cell_type": "markdown",
   "id": "976f3e63",
   "metadata": {
    "id": "uBthMlTSV8kn"
   },
   "source": [
    "### 模型评价\n",
    "\n",
    "我们在测试集上计算分类准确率"
   ]
  },
  {
   "cell_type": "code",
   "execution_count": null,
   "id": "12683b45",
   "metadata": {
    "collapsed": false,
    "id": "slqB-urBV9sP",
    "jupyter": {
     "outputs_hidden": false
    },
    "tags": []
   },
   "outputs": [],
   "source": [
    "loss, accuracy = classifier_model.evaluate(test_ds)\n",
    "print(f'Loss: {loss}')\n",
    "print(f'Accuracy: {accuracy}')"
   ]
  },
  {
   "cell_type": "code",
   "execution_count": null,
   "id": "fb7fa05e",
   "metadata": {
    "collapsed": false,
    "jupyter": {
     "outputs_hidden": false
    },
    "tags": []
   },
   "outputs": [],
   "source": [
    "def plot_confusion_matrix(cm, classes,\n",
    "                          title='Confusion matrix',\n",
    "                          cmap=plt.cm.Blues):\n",
    "\n",
    "    cm = cm.astype('float') / cm.sum(axis=1)[:, np.newaxis]\n",
    "\n",
    "    plt.imshow(cm, interpolation='nearest', cmap=cmap)\n",
    "    plt.title(title, fontsize=30)\n",
    "    plt.colorbar()\n",
    "    tick_marks = np.arange(len(classes))\n",
    "    plt.xticks(tick_marks, classes, rotation=45, fontsize=22)\n",
    "    plt.yticks(tick_marks, classes, fontsize=22)\n",
    "\n",
    "    fmt = '.2f'\n",
    "    thresh = cm.max() / 2.\n",
    "    for i, j in itertools.product(range(cm.shape[0]), range(cm.shape[1])):\n",
    "        plt.text(j, i, format(cm[i, j], fmt),\n",
    "                 horizontalalignment=\"center\",\n",
    "                 color=\"white\" if cm[i, j] > thresh else \"black\")\n",
    "\n",
    "    plt.ylabel('True label', fontsize=25)\n",
    "    plt.xlabel('Predicted label', fontsize=25)\n",
    "    \n",
    "predict_probability = classifier_model.predict(test_ds)\n",
    "prediction = [np.argmax(i) for i in predict_probability]\n",
    "cnf_matrix = confusion_matrix(y_test.tolist(), prediction)\n",
    "plt.figure(figsize=(24,20))\n",
    "plot_confusion_matrix(cnf_matrix, classes=text_labels, title=\"Confusion matrix\")\n",
    "plt.show()"
   ]
  },
  {
   "cell_type": "markdown",
   "id": "40d2f1cf",
   "metadata": {
    "id": "Rtn7jewb6dg4"
   },
   "source": [
    "## 模型应用\n",
    "\n",
    "我们将经过训练完成的模型保存，方便调用。"
   ]
  },
  {
   "cell_type": "code",
   "execution_count": null,
   "id": "880d2535",
   "metadata": {
    "collapsed": false,
    "id": "ShcvqJAgVera",
    "jupyter": {
     "outputs_hidden": false
    },
    "tags": []
   },
   "outputs": [],
   "source": [
    "classifier_model.save('./model/IMDB_bert', include_optimizer=False)"
   ]
  },
  {
   "cell_type": "markdown",
   "id": "4b5d18c7",
   "metadata": {},
   "source": [
    "使用模型对输入的文本进行分类。\n",
    "\n",
    "我们输入一则测试新闻文本：“这部电影很差劲”，该文本被模型分类为消极，符合预期。"
   ]
  },
  {
   "cell_type": "code",
   "execution_count": null,
   "id": "aaf72cd2",
   "metadata": {
    "collapsed": false,
    "id": "VBWzH6exlCPS",
    "jupyter": {
     "outputs_hidden": false
    }
   },
   "outputs": [],
   "source": [
    "model = tf.saved_model.load('./model/IMDB_bert')\n",
    "query = ['This movie is so bad']\n",
    "result = tf.sigmoid(model(tf.constant(query)))\n",
    "print('----- 评论积极的概率 -----')\n",
    "dict(zip(text_labels, result.numpy()))"
   ]
  },
  {
   "cell_type": "markdown",
   "id": "35cf6df3",
   "metadata": {},
   "source": [
    "# 分布式训练"
   ]
  },
  {
   "cell_type": "markdown",
   "id": "b7569f2f-e9ae-4af2-92c7-fb7ea17721a8",
   "metadata": {},
   "source": [
    "> 在该笔记本中，我们演示的为并非真实的分布式，而是单机模拟的伪分布式，真实的分布式需要提交到计算机集群。\n",
    "\n",
    "您可在该笔记本中进行代码初步测试，之后通过以下方式提交到中央财经大学高性能大数据计算集群。"
   ]
  },
  {
   "cell_type": "raw",
   "id": "812ab804-f16f-426f-9c6c-dec9d61558d0",
   "metadata": {},
   "source": [
    "ssh cufe@192.168.113.164\n",
    "password: dashuju\n",
    "\n",
    "spark-submit --master yarn code.py --py-files gensim.zip > output.txt"
   ]
  },
  {
   "cell_type": "markdown",
   "id": "0126c5de",
   "metadata": {},
   "source": [
    "* 通过 YARN 资源调度系统提交到作业队列： `spark-submit --master yarn`\n",
    "* 由于在 UDF（用户自定义）函数中使用了第三方包，需要将其发送至集群中的每个计算节点 `--py-files gensim.zip`\n",
    "* 队列计算完成后将结果重定向输出 `> output.txt`"
   ]
  },
  {
   "cell_type": "markdown",
   "id": "e2d92326-0413-41ea-89ae-8513ae399722",
   "metadata": {
    "tags": []
   },
   "source": [
    "## 环境启动"
   ]
  },
  {
   "cell_type": "code",
   "execution_count": 1,
   "id": "f143536e-ff34-46fa-9ab5-d9587af2aad7",
   "metadata": {},
   "outputs": [
    {
     "name": "stderr",
     "output_type": "stream",
     "text": [
      "Using Spark's default log4j profile: org/apache/spark/log4j-defaults.properties\n",
      "Setting default log level to \"WARN\".\n",
      "To adjust logging level use sc.setLogLevel(newLevel). For SparkR, use setLogLevel(newLevel).\n",
      "22/01/16 12:30:40 WARN NativeCodeLoader: Unable to load native-hadoop library for your platform... using builtin-java classes where applicable\n"
     ]
    }
   ],
   "source": [
    "import pandas as pd\n",
    "import pyspark.ml.feature\n",
    "from pyspark.ml import Pipeline\n",
    "from pyspark.ml.tuning import CrossValidator,ParamGridBuilder\n",
    "from pyspark.ml.evaluation import MulticlassClassificationEvaluator\n",
    "from pyspark.ml.feature import Tokenizer,StopWordsRemover,CountVectorizer,IDF,StringIndexer,Word2Vec,HashingTF\n",
    "from pyspark.ml.classification import LogisticRegression,RandomForestClassifier,GBTClassifier,DecisionTreeClassifier\n",
    "from pyspark.sql import SparkSession,Row\n",
    "from pyspark.sql.types import StringType\n",
    "from pyspark.sql.functions import udf, col\n",
    "\n",
    "spark = SparkSession.builder.appName('text_classification').getOrCreate()"
   ]
  },
  {
   "cell_type": "markdown",
   "id": "7920eb6e-49a3-48b5-b5c1-97bf47eb54e1",
   "metadata": {},
   "source": [
    "## 数据读取\n",
    "\n",
    "由于数据为逗号分隔的 csv 格式，在文本列出现混淆。我们使用 pandas 进行读取后再转换为 spark DataFrame 格式"
   ]
  },
  {
   "cell_type": "code",
   "execution_count": 2,
   "id": "e0ec2720-a1c1-4c0d-9756-70cfb2e1b65c",
   "metadata": {},
   "outputs": [
    {
     "name": "stdout",
     "output_type": "stream",
     "text": [
      "root\n",
      " |-- review: string (nullable = true)\n",
      " |-- sentiment: string (nullable = true)\n",
      "\n",
      "+--------------------+--------------------+\n",
      "|              review|           sentiment|\n",
      "+--------------------+--------------------+\n",
      "|One of the other ...|            positive|\n",
      "|\"A wonderful litt...| not only is it w...|\n",
      "|\"I thought this w...| but spirited you...|\n",
      "|Basically there's...|            negative|\n",
      "|\"Petter Mattei's ...| power and succes...|\n",
      "|\"Probably my all-...| but that only ma...|\n",
      "|I sure would like...|            positive|\n",
      "|This show was an ...|            negative|\n",
      "|Encouraged by the...|            negative|\n",
      "|If you like origi...|            positive|\n",
      "|\"Phil the Alien i...|            negative|\n",
      "|I saw this movie ...|            negative|\n",
      "|\"So im not a big ...| meaning most of ...|\n",
      "|The cast played S...|            negative|\n",
      "|This a fantastic ...|            positive|\n",
      "|Kind of drawn in ...|            negative|\n",
      "|Some films just s...|            positive|\n",
      "|This movie made i...|            negative|\n",
      "|I remember this f...|            positive|\n",
      "|An awful film! It...|            negative|\n",
      "+--------------------+--------------------+\n",
      "only showing top 20 rows\n",
      "\n",
      "root\n",
      " |-- review: string (nullable = true)\n",
      " |-- sentiment: string (nullable = true)\n",
      "\n"
     ]
    },
    {
     "name": "stderr",
     "output_type": "stream",
     "text": [
      "22/01/16 12:30:48 WARN TaskSetManager: Stage 3 contains a task of very large size (8022 KiB). The maximum recommended task size is 1000 KiB.\n"
     ]
    },
    {
     "name": "stdout",
     "output_type": "stream",
     "text": [
      "+--------------------+---------+\n",
      "|              review|sentiment|\n",
      "+--------------------+---------+\n",
      "|One of the other ...| positive|\n",
      "|A wonderful littl...| positive|\n",
      "|I thought this wa...| positive|\n",
      "|Basically there's...| negative|\n",
      "|Petter Mattei's \"...| positive|\n",
      "|Probably my all-t...| positive|\n",
      "|I sure would like...| positive|\n",
      "|This show was an ...| negative|\n",
      "|Encouraged by the...| negative|\n",
      "|If you like origi...| positive|\n",
      "|Phil the Alien is...| negative|\n",
      "|I saw this movie ...| negative|\n",
      "|So im not a big f...| negative|\n",
      "|The cast played S...| negative|\n",
      "|This a fantastic ...| positive|\n",
      "|Kind of drawn in ...| negative|\n",
      "|Some films just s...| positive|\n",
      "|This movie made i...| negative|\n",
      "|I remember this f...| positive|\n",
      "|An awful film! It...| negative|\n",
      "+--------------------+---------+\n",
      "only showing top 20 rows\n",
      "\n"
     ]
    },
    {
     "name": "stderr",
     "output_type": "stream",
     "text": [
      "22/01/16 12:30:49 WARN TaskSetManager: Stage 4 contains a task of very large size (8022 KiB). The maximum recommended task size is 1000 KiB.\n",
      "                                                                                \r"
     ]
    },
    {
     "name": "stdout",
     "output_type": "stream",
     "text": [
      "+---------+-----+\n",
      "|sentiment|count|\n",
      "+---------+-----+\n",
      "| positive|25000|\n",
      "| negative|25000|\n",
      "+---------+-----+\n",
      "\n"
     ]
    }
   ],
   "source": [
    "try:\n",
    "    df = spark.read.csv('./data/IMDB.csv', header = True, inferSchema = True)\n",
    "except 'FileNotFoundError':\n",
    "    # location on server\n",
    "    df = spark.read.csv('file:///home1/cufe/students/wuyuchong/spark_text_classification/data/IMDB.csv', header = True, inferSchema = True)\n",
    "df.printSchema()\n",
    "df.show()\n",
    "\n",
    "pandasDF = pd.read_csv('./data/IMDB.csv')\n",
    "pandasDF.isnull().sum() # 缺失值检查\n",
    "df = spark.createDataFrame(pandasDF)\n",
    "df.printSchema()\n",
    "df.show()\n",
    "df.groupBy('sentiment').count().show()"
   ]
  },
  {
   "cell_type": "markdown",
   "id": "1766a139-2492-437f-bf01-750f8a567357",
   "metadata": {},
   "source": [
    "## 文本清洁"
   ]
  },
  {
   "cell_type": "code",
   "execution_count": 3,
   "id": "416cdc02-958c-4fb6-9db0-8437c1796417",
   "metadata": {},
   "outputs": [],
   "source": [
    "cleaning = True\n",
    "if cleaning == False:\n",
    "    df = df.withColumn(\"clean_text\", df.review)\n",
    "else:\n",
    "    try:\n",
    "        # 在服务器上的分布式模式中，需要使用 --py-files 将 gensim 包传到每个子节点\n",
    "        # 若该过程失败则跳过文本清洁过程\n",
    "        import gensim.parsing.preprocessing as gsp\n",
    "        from gensim import utils\n",
    "        filters = [\n",
    "            gsp.strip_tags,\n",
    "            gsp.strip_punctuation,\n",
    "            gsp.strip_multiple_whitespaces,\n",
    "            gsp.strip_numeric,\n",
    "            gsp.remove_stopwords,\n",
    "            gsp.strip_short,\n",
    "            gsp.stem_text\n",
    "        ]\n",
    "        def clean_text(x):\n",
    "            x = x.lower()\n",
    "            x = utils.to_unicode(x)\n",
    "            for f in filters:\n",
    "                x = f(x)\n",
    "            return x\n",
    "\n",
    "        cleanTextUDF = udf(lambda x: clean_text(x), StringType())\n",
    "        df = df.withColumn(\"clean_text\", cleanTextUDF(col(\"review\")))\n",
    "    except:\n",
    "        df = df.withColumn(\"clean_text\", df.review)"
   ]
  },
  {
   "cell_type": "code",
   "execution_count": 4,
   "id": "91396097-95ce-48b9-9716-6731f42ef0c5",
   "metadata": {},
   "outputs": [
    {
     "name": "stderr",
     "output_type": "stream",
     "text": [
      "22/01/16 12:30:51 WARN TaskSetManager: Stage 7 contains a task of very large size (8022 KiB). The maximum recommended task size is 1000 KiB.\n",
      "22/01/16 12:30:52 WARN TaskSetManager: Stage 10 contains a task of very large size (8022 KiB). The maximum recommended task size is 1000 KiB.\n",
      "[Stage 10:>                                                         (0 + 1) / 1]\r"
     ]
    },
    {
     "name": "stdout",
     "output_type": "stream",
     "text": [
      "+--------------------+---------+--------------------+-----+\n",
      "|              review|sentiment|          clean_text|label|\n",
      "+--------------------+---------+--------------------+-----+\n",
      "|One of the other ...| positive|review mention wa...|  1.0|\n",
      "|A wonderful littl...| positive|wonder littl prod...|  1.0|\n",
      "|I thought this wa...| positive|thought wonder wa...|  1.0|\n",
      "|Basically there's...| negative|basic famili litt...|  0.0|\n",
      "|Petter Mattei's \"...| positive|petter mattei lov...|  1.0|\n",
      "+--------------------+---------+--------------------+-----+\n",
      "only showing top 5 rows\n",
      "\n"
     ]
    },
    {
     "name": "stderr",
     "output_type": "stream",
     "text": [
      "                                                                                \r"
     ]
    }
   ],
   "source": [
    "# ----------------------------> 标签数字转换\n",
    "labelEncoder = StringIndexer(inputCol='sentiment', outputCol='label').fit(df)\n",
    "labelEncoder.transform(df).show(5)\n",
    "df = labelEncoder.transform(df)\n",
    "# ----------------------------------------------------------------------"
   ]
  },
  {
   "cell_type": "markdown",
   "id": "8b76d127-b40c-45c3-80d2-0bc32f2696e8",
   "metadata": {},
   "source": [
    "## 数据集划分\n",
    "\n",
    "划分 70% 的训练集和 30% 的测试集。"
   ]
  },
  {
   "cell_type": "code",
   "execution_count": 5,
   "id": "000263b9-df93-415d-8494-22ee2c8bd1e5",
   "metadata": {},
   "outputs": [],
   "source": [
    "(trainDF,testDF) = df.randomSplit((0.7,0.3), seed=1)"
   ]
  },
  {
   "cell_type": "markdown",
   "id": "28943c69-2c54-4b4e-a0f5-b96b58a7634f",
   "metadata": {},
   "source": [
    "## 文本特征工程"
   ]
  },
  {
   "cell_type": "code",
   "execution_count": 6,
   "id": "7b8633d5-3434-4d6d-a907-dace932d3ebd",
   "metadata": {},
   "outputs": [
    {
     "name": "stderr",
     "output_type": "stream",
     "text": [
      "22/01/16 12:30:53 WARN TaskSetManager: Stage 11 contains a task of very large size (8022 KiB). The maximum recommended task size is 1000 KiB.\n",
      "22/01/16 12:31:04 WARN TaskSetManager: Stage 15 contains a task of very large size (8022 KiB). The maximum recommended task size is 1000 KiB.\n",
      "22/01/16 12:31:12 WARN DAGScheduler: Broadcasting large task binary with size 1622.5 KiB\n",
      "22/01/16 12:31:12 WARN TaskSetManager: Stage 17 contains a task of very large size (8022 KiB). The maximum recommended task size is 1000 KiB.\n",
      "[Stage 17:>                                                         (0 + 1) / 1]\r"
     ]
    },
    {
     "name": "stdout",
     "output_type": "stream",
     "text": [
      "+--------------------+---------+--------------------+-----+--------------------+--------------------+--------------------+--------------------+\n",
      "|              review|sentiment|          clean_text|label|              tokens|     filtered_tokens|         rawFeatures|  vectorizedFeatures|\n",
      "+--------------------+---------+--------------------+-----+--------------------+--------------------+--------------------+--------------------+\n",
      "|\" Så som i himmel...| positive|som himmelen spec...|  1.0|[som, himmelen, s...|[som, himmelen, s...|(61505,[1,5,7,8,1...|(61505,[1,5,7,8,1...|\n",
      "|\"A Thief in the N...| positive|thief night film ...|  1.0|[thief, night, fi...|[thief, night, fi...|(61505,[0,1,7,20,...|(61505,[0,1,7,20,...|\n",
      "|\"A bored televisi...| negative|bore televis dire...|  0.0|[bore, televis, d...|[bore, televis, d...|(61505,[0,4,7,14,...|(61505,[0,4,7,14,...|\n",
      "|\"A death at a col...| negative|death colleg camp...|  0.0|[death, colleg, c...|[death, colleg, c...|(61505,[0,6,8,15,...|(61505,[0,6,8,15,...|\n",
      "|\"A wrong-doer is ...| positive|wrong doer man le...|  1.0|[wrong, doer, man...|[wrong, doer, man...|(61505,[1,2,4,6,9...|(61505,[1,2,4,6,9...|\n",
      "|\"ASTONISHING\" Scr...| negative|astonish scream t...|  0.0|[astonish, scream...|[astonish, scream...|(61505,[1,2,3,6,9...|(61505,[1,2,3,6,9...|\n",
      "|\"Ah Ritchie's mad...| positive|ritchi gangster f...|  1.0|[ritchi, gangster...|[ritchi, gangster...|(61505,[1,6,13,34...|(61505,[1,6,13,34...|\n",
      "|\"All men are guil...| positive|men guilti sai ch...|  1.0|[men, guilti, sai...|[men, guilti, sai...|(61505,[0,1,2,3,4...|(61505,[0,1,2,3,4...|\n",
      "|\"Ally McBeal\" was...| negative|alli mcbeal decen...|  0.0|[alli, mcbeal, de...|[alli, mcbeal, de...|(61505,[3,5,16,52...|(61505,[3,5,16,52...|\n",
      "|\"American Nightma...| negative|american nightmar...|  0.0|[american, nightm...|[american, nightm...|(61505,[0,3,10,11...|(61505,[0,3,10,11...|\n",
      "|\"And the time cam...| positive|time came risk re...|  1.0|[time, came, risk...|[time, came, risk...|(61505,[1,3,4,7,9...|(61505,[1,3,4,7,9...|\n",
      "|\"Bell Book and Ca...| positive|bell book candl s...|  1.0|[bell, book, cand...|[bell, book, cand...|(61505,[0,1,4,6,9...|(61505,[0,1,4,6,9...|\n",
      "|\"Bye Bye Birdie\" ...| positive|bye bye birdi isn...|  1.0|[bye, bye, birdi,...|[bye, bye, birdi,...|(61505,[1,3,9,13,...|(61505,[1,3,9,13,...|\n",
      "|\"Checking Out\" is...| positive|check witti hones...|  1.0|[check, witti, ho...|[check, witti, ho...|(61505,[0,1,6,13,...|(61505,[0,1,6,13,...|\n",
      "|\"Cinderella\" is o...| positive|cinderella belov ...|  1.0|[cinderella, belo...|[cinderella, belo...|(61505,[1,3,4,5,7...|(61505,[1,3,4,5,7...|\n",
      "|\"Coconut Fred's F...| positive|coconut fred frui...|  1.0|[coconut, fred, f...|[coconut, fred, f...|(61505,[3,4,5,13,...|(61505,[3,4,5,13,...|\n",
      "|\"Crossfire\" is a ...| positive|crossfir justifi ...|  1.0|[crossfir, justif...|[crossfir, justif...|(61505,[1,4,17,20...|(61505,[1,4,17,20...|\n",
      "|\"Crossfire\" is os...| positive|crossfir ostens m...|  1.0|[crossfir, ostens...|[crossfir, ostens...|(61505,[0,7,9,13,...|(61505,[0,7,9,13,...|\n",
      "|\"Crossfire\" is re...| positive|crossfir rememb f...|  1.0|[crossfir, rememb...|[crossfir, rememb...|(61505,[0,1,4,5,7...|(61505,[0,1,4,5,7...|\n",
      "|\"Cut\" is a full-t...| positive|cut tilt spoof sl...|  1.0|[cut, tilt, spoof...|[cut, tilt, spoof...|(61505,[1,3,4,9,1...|(61505,[1,3,4,9,1...|\n",
      "+--------------------+---------+--------------------+-----+--------------------+--------------------+--------------------+--------------------+\n",
      "only showing top 20 rows\n",
      "\n"
     ]
    },
    {
     "name": "stderr",
     "output_type": "stream",
     "text": [
      "                                                                                \r"
     ]
    }
   ],
   "source": [
    "# ----------------------------> 特征工程方法选项\n",
    "#  processType = 'word2vec'\n",
    "processType = 'vectorize-idf'\n",
    "#  processType = 'tf-idf'\n",
    "\n",
    "# ----------------------------> 文本特征工程\n",
    "tokenizer = Tokenizer(inputCol='clean_text', outputCol='tokens')\n",
    "add_stopwords = [\"<br />\",\"amp\"]\n",
    "stopwords_remover = StopWordsRemover(inputCol='tokens', outputCol='filtered_tokens').setStopWords(add_stopwords)\n",
    "vectorizer = CountVectorizer(inputCol='filtered_tokens', outputCol='rawFeatures')\n",
    "hashingTF = HashingTF(inputCol=\"filtered_tokens\", outputCol=\"rawFeatures\")\n",
    "idf = IDF(inputCol='rawFeatures', outputCol='vectorizedFeatures')\n",
    "word2Vec = Word2Vec(vectorSize=50, minCount=2, inputCol=\"filtered_tokens\", outputCol=\"vectorizedFeatures\")\n",
    "if processType == 'word2vec':\n",
    "    pipeline = Pipeline(stages=[tokenizer,stopwords_remover,word2Vec])\n",
    "if processType == 'vectorize-idf':\n",
    "    pipeline = Pipeline(stages=[tokenizer,stopwords_remover,vectorizer,idf])\n",
    "if processType == 'tf-idf':\n",
    "    pipeline = Pipeline(stages=[tokenizer,stopwords_remover,hashingTF,idf])\n",
    "preprocessModel = pipeline.fit(trainDF)\n",
    "trainDF = preprocessModel.transform(trainDF)\n",
    "testDF = preprocessModel.transform(testDF)\n",
    "trainDF.show()"
   ]
  },
  {
   "cell_type": "markdown",
   "id": "9015b3b6-a339-42fd-a612-4cec4fa8aec3",
   "metadata": {},
   "source": [
    "## 训练模型\n",
    "\n",
    "我们首先使用简单的 logistic 模型进行拟合，在训练集上进行拟合，之后在测试集上验证模型的效果。"
   ]
  },
  {
   "cell_type": "code",
   "execution_count": 7,
   "id": "80ed2e3b-8fc8-4242-a589-7ee1f030274c",
   "metadata": {},
   "outputs": [
    {
     "name": "stderr",
     "output_type": "stream",
     "text": [
      "22/01/16 12:31:17 WARN DAGScheduler: Broadcasting large task binary with size 1624.4 KiB\n",
      "22/01/16 12:31:17 WARN TaskSetManager: Stage 18 contains a task of very large size (8022 KiB). The maximum recommended task size is 1000 KiB.\n",
      "22/01/16 12:31:27 WARN DAGScheduler: Broadcasting large task binary with size 1625.6 KiB\n",
      "22/01/16 12:31:27 WARN DAGScheduler: Broadcasting large task binary with size 1625.8 KiB\n",
      "22/01/16 12:31:27 WARN TaskSetManager: Stage 20 contains a task of very large size (8022 KiB). The maximum recommended task size is 1000 KiB.\n",
      "22/01/16 12:31:37 WARN DAGScheduler: Broadcasting large task binary with size 1627.0 KiB\n",
      "22/01/16 12:31:37 WARN BLAS: Failed to load implementation from: com.github.fommil.netlib.NativeSystemBLAS\n",
      "22/01/16 12:31:37 WARN BLAS: Failed to load implementation from: com.github.fommil.netlib.NativeRefBLAS\n",
      "22/01/16 12:31:37 WARN DAGScheduler: Broadcasting large task binary with size 1625.8 KiB\n",
      "22/01/16 12:31:37 WARN TaskSetManager: Stage 22 contains a task of very large size (8022 KiB). The maximum recommended task size is 1000 KiB.\n",
      "22/01/16 12:31:38 WARN DAGScheduler: Broadcasting large task binary with size 1627.0 KiB\n",
      "22/01/16 12:31:38 WARN DAGScheduler: Broadcasting large task binary with size 1625.8 KiB\n",
      "22/01/16 12:31:38 WARN TaskSetManager: Stage 24 contains a task of very large size (8022 KiB). The maximum recommended task size is 1000 KiB.\n",
      "22/01/16 12:31:38 WARN DAGScheduler: Broadcasting large task binary with size 1627.0 KiB\n",
      "22/01/16 12:31:38 WARN DAGScheduler: Broadcasting large task binary with size 1625.8 KiB\n",
      "22/01/16 12:31:38 WARN TaskSetManager: Stage 26 contains a task of very large size (8022 KiB). The maximum recommended task size is 1000 KiB.\n",
      "22/01/16 12:31:38 WARN DAGScheduler: Broadcasting large task binary with size 1627.0 KiB\n",
      "22/01/16 12:31:38 WARN DAGScheduler: Broadcasting large task binary with size 1625.8 KiB\n",
      "22/01/16 12:31:38 WARN TaskSetManager: Stage 28 contains a task of very large size (8022 KiB). The maximum recommended task size is 1000 KiB.\n",
      "22/01/16 12:31:39 WARN DAGScheduler: Broadcasting large task binary with size 1627.0 KiB\n",
      "22/01/16 12:31:39 WARN DAGScheduler: Broadcasting large task binary with size 1625.8 KiB\n",
      "22/01/16 12:31:39 WARN TaskSetManager: Stage 30 contains a task of very large size (8022 KiB). The maximum recommended task size is 1000 KiB.\n",
      "22/01/16 12:31:39 WARN DAGScheduler: Broadcasting large task binary with size 1627.0 KiB\n",
      "22/01/16 12:31:39 WARN DAGScheduler: Broadcasting large task binary with size 1625.8 KiB\n",
      "22/01/16 12:31:39 WARN TaskSetManager: Stage 32 contains a task of very large size (8022 KiB). The maximum recommended task size is 1000 KiB.\n",
      "22/01/16 12:31:39 WARN DAGScheduler: Broadcasting large task binary with size 1627.0 KiB\n",
      "22/01/16 12:31:40 WARN DAGScheduler: Broadcasting large task binary with size 1625.8 KiB\n",
      "22/01/16 12:31:40 WARN TaskSetManager: Stage 34 contains a task of very large size (8022 KiB). The maximum recommended task size is 1000 KiB.\n",
      "22/01/16 12:31:40 WARN DAGScheduler: Broadcasting large task binary with size 1627.0 KiB\n",
      "22/01/16 12:31:40 WARN DAGScheduler: Broadcasting large task binary with size 1625.8 KiB\n",
      "22/01/16 12:31:40 WARN TaskSetManager: Stage 36 contains a task of very large size (8022 KiB). The maximum recommended task size is 1000 KiB.\n",
      "22/01/16 12:31:40 WARN DAGScheduler: Broadcasting large task binary with size 1627.0 KiB\n",
      "22/01/16 12:31:40 WARN DAGScheduler: Broadcasting large task binary with size 1625.8 KiB\n",
      "22/01/16 12:31:40 WARN TaskSetManager: Stage 38 contains a task of very large size (8022 KiB). The maximum recommended task size is 1000 KiB.\n",
      "22/01/16 12:31:40 WARN DAGScheduler: Broadcasting large task binary with size 1627.0 KiB\n",
      "22/01/16 12:31:40 WARN DAGScheduler: Broadcasting large task binary with size 1625.8 KiB\n",
      "22/01/16 12:31:40 WARN TaskSetManager: Stage 40 contains a task of very large size (8022 KiB). The maximum recommended task size is 1000 KiB.\n",
      "22/01/16 12:31:41 WARN DAGScheduler: Broadcasting large task binary with size 1627.0 KiB\n",
      "22/01/16 12:31:41 WARN DAGScheduler: Broadcasting large task binary with size 1625.8 KiB\n",
      "22/01/16 12:31:41 WARN TaskSetManager: Stage 42 contains a task of very large size (8022 KiB). The maximum recommended task size is 1000 KiB.\n",
      "22/01/16 12:31:41 WARN DAGScheduler: Broadcasting large task binary with size 1627.0 KiB\n",
      "22/01/16 12:31:41 WARN DAGScheduler: Broadcasting large task binary with size 1625.8 KiB\n",
      "22/01/16 12:31:41 WARN TaskSetManager: Stage 44 contains a task of very large size (8022 KiB). The maximum recommended task size is 1000 KiB.\n",
      "22/01/16 12:31:41 WARN DAGScheduler: Broadcasting large task binary with size 1627.0 KiB\n",
      "22/01/16 12:31:41 WARN DAGScheduler: Broadcasting large task binary with size 1625.8 KiB\n",
      "22/01/16 12:31:42 WARN TaskSetManager: Stage 46 contains a task of very large size (8022 KiB). The maximum recommended task size is 1000 KiB.\n",
      "22/01/16 12:31:42 WARN DAGScheduler: Broadcasting large task binary with size 1627.0 KiB\n",
      "22/01/16 12:31:42 WARN DAGScheduler: Broadcasting large task binary with size 1625.8 KiB\n",
      "22/01/16 12:31:42 WARN TaskSetManager: Stage 48 contains a task of very large size (8022 KiB). The maximum recommended task size is 1000 KiB.\n",
      "22/01/16 12:31:42 WARN DAGScheduler: Broadcasting large task binary with size 1627.0 KiB\n",
      "22/01/16 12:31:42 WARN DAGScheduler: Broadcasting large task binary with size 1625.8 KiB\n",
      "22/01/16 12:31:42 WARN TaskSetManager: Stage 50 contains a task of very large size (8022 KiB). The maximum recommended task size is 1000 KiB.\n",
      "22/01/16 12:31:43 WARN DAGScheduler: Broadcasting large task binary with size 1627.0 KiB\n",
      "22/01/16 12:31:43 WARN DAGScheduler: Broadcasting large task binary with size 1625.8 KiB\n",
      "22/01/16 12:31:43 WARN TaskSetManager: Stage 52 contains a task of very large size (8022 KiB). The maximum recommended task size is 1000 KiB.\n",
      "22/01/16 12:31:43 WARN DAGScheduler: Broadcasting large task binary with size 1627.0 KiB\n",
      "22/01/16 12:31:43 WARN DAGScheduler: Broadcasting large task binary with size 1625.8 KiB\n",
      "22/01/16 12:31:43 WARN TaskSetManager: Stage 54 contains a task of very large size (8022 KiB). The maximum recommended task size is 1000 KiB.\n",
      "22/01/16 12:31:44 WARN DAGScheduler: Broadcasting large task binary with size 1627.0 KiB\n",
      "22/01/16 12:31:44 WARN DAGScheduler: Broadcasting large task binary with size 1625.8 KiB\n",
      "22/01/16 12:31:44 WARN TaskSetManager: Stage 56 contains a task of very large size (8022 KiB). The maximum recommended task size is 1000 KiB.\n",
      "22/01/16 12:31:44 WARN DAGScheduler: Broadcasting large task binary with size 1627.0 KiB\n",
      "22/01/16 12:31:44 WARN DAGScheduler: Broadcasting large task binary with size 1625.8 KiB\n",
      "22/01/16 12:31:44 WARN TaskSetManager: Stage 58 contains a task of very large size (8022 KiB). The maximum recommended task size is 1000 KiB.\n",
      "22/01/16 12:31:44 WARN DAGScheduler: Broadcasting large task binary with size 1627.0 KiB\n",
      "22/01/16 12:31:44 WARN DAGScheduler: Broadcasting large task binary with size 1625.8 KiB\n",
      "22/01/16 12:31:44 WARN TaskSetManager: Stage 60 contains a task of very large size (8022 KiB). The maximum recommended task size is 1000 KiB.\n",
      "22/01/16 12:31:45 WARN DAGScheduler: Broadcasting large task binary with size 1627.0 KiB\n",
      "22/01/16 12:31:45 WARN DAGScheduler: Broadcasting large task binary with size 1625.8 KiB\n",
      "22/01/16 12:31:45 WARN TaskSetManager: Stage 62 contains a task of very large size (8022 KiB). The maximum recommended task size is 1000 KiB.\n",
      "22/01/16 12:31:45 WARN DAGScheduler: Broadcasting large task binary with size 1627.0 KiB\n",
      "22/01/16 12:31:45 WARN DAGScheduler: Broadcasting large task binary with size 1625.8 KiB\n",
      "22/01/16 12:31:45 WARN TaskSetManager: Stage 64 contains a task of very large size (8022 KiB). The maximum recommended task size is 1000 KiB.\n",
      "22/01/16 12:31:45 WARN DAGScheduler: Broadcasting large task binary with size 1627.0 KiB\n",
      "22/01/16 12:31:46 WARN DAGScheduler: Broadcasting large task binary with size 1625.8 KiB\n",
      "22/01/16 12:31:46 WARN TaskSetManager: Stage 66 contains a task of very large size (8022 KiB). The maximum recommended task size is 1000 KiB.\n",
      "22/01/16 12:31:46 WARN DAGScheduler: Broadcasting large task binary with size 1627.0 KiB\n",
      "22/01/16 12:31:46 WARN DAGScheduler: Broadcasting large task binary with size 1625.8 KiB\n",
      "22/01/16 12:31:46 WARN TaskSetManager: Stage 68 contains a task of very large size (8022 KiB). The maximum recommended task size is 1000 KiB.\n",
      "22/01/16 12:31:46 WARN DAGScheduler: Broadcasting large task binary with size 1627.0 KiB\n",
      "22/01/16 12:31:46 WARN DAGScheduler: Broadcasting large task binary with size 1625.8 KiB\n",
      "22/01/16 12:31:46 WARN TaskSetManager: Stage 70 contains a task of very large size (8022 KiB). The maximum recommended task size is 1000 KiB.\n",
      "22/01/16 12:31:46 WARN DAGScheduler: Broadcasting large task binary with size 1627.0 KiB\n",
      "22/01/16 12:31:47 WARN DAGScheduler: Broadcasting large task binary with size 1625.8 KiB\n",
      "22/01/16 12:31:47 WARN TaskSetManager: Stage 72 contains a task of very large size (8022 KiB). The maximum recommended task size is 1000 KiB.\n",
      "22/01/16 12:31:47 WARN DAGScheduler: Broadcasting large task binary with size 1627.0 KiB\n",
      "22/01/16 12:31:47 WARN DAGScheduler: Broadcasting large task binary with size 1625.8 KiB\n",
      "22/01/16 12:31:47 WARN TaskSetManager: Stage 74 contains a task of very large size (8022 KiB). The maximum recommended task size is 1000 KiB.\n",
      "22/01/16 12:31:47 WARN DAGScheduler: Broadcasting large task binary with size 1627.0 KiB\n",
      "22/01/16 12:31:47 WARN DAGScheduler: Broadcasting large task binary with size 1625.8 KiB\n",
      "22/01/16 12:31:47 WARN TaskSetManager: Stage 76 contains a task of very large size (8022 KiB). The maximum recommended task size is 1000 KiB.\n",
      "22/01/16 12:31:48 WARN DAGScheduler: Broadcasting large task binary with size 1627.0 KiB\n",
      "22/01/16 12:31:48 WARN DAGScheduler: Broadcasting large task binary with size 1625.8 KiB\n",
      "22/01/16 12:31:48 WARN TaskSetManager: Stage 78 contains a task of very large size (8022 KiB). The maximum recommended task size is 1000 KiB.\n",
      "22/01/16 12:31:48 WARN DAGScheduler: Broadcasting large task binary with size 1627.0 KiB\n",
      "22/01/16 12:31:48 WARN DAGScheduler: Broadcasting large task binary with size 1625.8 KiB\n",
      "22/01/16 12:31:48 WARN TaskSetManager: Stage 80 contains a task of very large size (8022 KiB). The maximum recommended task size is 1000 KiB.\n",
      "22/01/16 12:31:48 WARN DAGScheduler: Broadcasting large task binary with size 1627.0 KiB\n",
      "22/01/16 12:31:48 WARN DAGScheduler: Broadcasting large task binary with size 1625.8 KiB\n",
      "22/01/16 12:31:48 WARN TaskSetManager: Stage 82 contains a task of very large size (8022 KiB). The maximum recommended task size is 1000 KiB.\n",
      "22/01/16 12:31:49 WARN DAGScheduler: Broadcasting large task binary with size 1627.0 KiB\n",
      "22/01/16 12:31:49 WARN DAGScheduler: Broadcasting large task binary with size 1625.8 KiB\n",
      "22/01/16 12:31:49 WARN TaskSetManager: Stage 84 contains a task of very large size (8022 KiB). The maximum recommended task size is 1000 KiB.\n",
      "22/01/16 12:31:49 WARN DAGScheduler: Broadcasting large task binary with size 1627.0 KiB\n",
      "22/01/16 12:31:49 WARN DAGScheduler: Broadcasting large task binary with size 1625.8 KiB\n",
      "22/01/16 12:31:49 WARN TaskSetManager: Stage 86 contains a task of very large size (8022 KiB). The maximum recommended task size is 1000 KiB.\n",
      "22/01/16 12:31:49 WARN DAGScheduler: Broadcasting large task binary with size 1627.0 KiB\n",
      "22/01/16 12:31:49 WARN DAGScheduler: Broadcasting large task binary with size 1625.8 KiB\n",
      "22/01/16 12:31:49 WARN TaskSetManager: Stage 88 contains a task of very large size (8022 KiB). The maximum recommended task size is 1000 KiB.\n",
      "22/01/16 12:31:49 WARN DAGScheduler: Broadcasting large task binary with size 1627.0 KiB\n",
      "22/01/16 12:31:50 WARN DAGScheduler: Broadcasting large task binary with size 1625.8 KiB\n",
      "22/01/16 12:31:50 WARN TaskSetManager: Stage 90 contains a task of very large size (8022 KiB). The maximum recommended task size is 1000 KiB.\n",
      "22/01/16 12:31:50 WARN DAGScheduler: Broadcasting large task binary with size 1627.0 KiB\n",
      "22/01/16 12:31:50 WARN DAGScheduler: Broadcasting large task binary with size 1625.8 KiB\n",
      "22/01/16 12:31:50 WARN TaskSetManager: Stage 92 contains a task of very large size (8022 KiB). The maximum recommended task size is 1000 KiB.\n",
      "22/01/16 12:31:50 WARN DAGScheduler: Broadcasting large task binary with size 1627.0 KiB\n",
      "22/01/16 12:31:50 WARN DAGScheduler: Broadcasting large task binary with size 1625.8 KiB\n",
      "22/01/16 12:31:50 WARN TaskSetManager: Stage 94 contains a task of very large size (8022 KiB). The maximum recommended task size is 1000 KiB.\n",
      "22/01/16 12:31:50 WARN DAGScheduler: Broadcasting large task binary with size 1627.0 KiB\n",
      "22/01/16 12:31:51 WARN DAGScheduler: Broadcasting large task binary with size 1625.8 KiB\n",
      "22/01/16 12:31:51 WARN TaskSetManager: Stage 96 contains a task of very large size (8022 KiB). The maximum recommended task size is 1000 KiB.\n",
      "22/01/16 12:31:51 WARN DAGScheduler: Broadcasting large task binary with size 1627.0 KiB\n",
      "22/01/16 12:31:51 WARN DAGScheduler: Broadcasting large task binary with size 1625.8 KiB\n",
      "22/01/16 12:31:51 WARN TaskSetManager: Stage 98 contains a task of very large size (8022 KiB). The maximum recommended task size is 1000 KiB.\n",
      "22/01/16 12:31:51 WARN DAGScheduler: Broadcasting large task binary with size 1627.0 KiB\n",
      "22/01/16 12:31:52 WARN DAGScheduler: Broadcasting large task binary with size 2.1 MiB\n",
      "22/01/16 12:31:52 WARN TaskSetManager: Stage 100 contains a task of very large size (8022 KiB). The maximum recommended task size is 1000 KiB.\n",
      "22/01/16 12:31:57 WARN DAGScheduler: Broadcasting large task binary with size 2.1 MiB\n",
      "22/01/16 12:31:57 WARN TaskSetManager: Stage 101 contains a task of very large size (8022 KiB). The maximum recommended task size is 1000 KiB.\n"
     ]
    },
    {
     "name": "stdout",
     "output_type": "stream",
     "text": [
      "+-----+----------+\n",
      "|label|prediction|\n",
      "+-----+----------+\n",
      "|  0.0|       0.0|\n",
      "|  0.0|       0.0|\n",
      "|  1.0|       1.0|\n",
      "|  1.0|       1.0|\n",
      "|  0.0|       0.0|\n",
      "|  1.0|       1.0|\n",
      "|  0.0|       0.0|\n",
      "|  0.0|       0.0|\n",
      "|  1.0|       1.0|\n",
      "|  0.0|       0.0|\n",
      "|  0.0|       0.0|\n",
      "|  0.0|       0.0|\n",
      "|  1.0|       1.0|\n",
      "|  1.0|       1.0|\n",
      "|  1.0|       1.0|\n",
      "|  1.0|       1.0|\n",
      "|  0.0|       0.0|\n",
      "|  0.0|       0.0|\n",
      "|  1.0|       1.0|\n",
      "|  1.0|       1.0|\n",
      "+-----+----------+\n",
      "only showing top 20 rows\n",
      "\n"
     ]
    },
    {
     "name": "stderr",
     "output_type": "stream",
     "text": [
      "[Stage 101:==========================================>              (6 + 2) / 8]\r"
     ]
    },
    {
     "name": "stdout",
     "output_type": "stream",
     "text": [
      "0.8366346605787954\n"
     ]
    },
    {
     "name": "stderr",
     "output_type": "stream",
     "text": [
      "                                                                                \r"
     ]
    }
   ],
   "source": [
    "lr = LogisticRegression(featuresCol='vectorizedFeatures',labelCol='label')\n",
    "lr_model = lr.fit(trainDF)\n",
    "prediction = lr_model.transform(testDF)\n",
    "prediction.select(['label', 'prediction']).show()\n",
    "evaluator = MulticlassClassificationEvaluator(labelCol='label',predictionCol='prediction',metricName='accuracy')\n",
    "accuracy = evaluator.evaluate(prediction)\n",
    "print(accuracy)"
   ]
  },
  {
   "cell_type": "markdown",
   "id": "5236e4ba-7bc1-4206-b98a-3f3644341620",
   "metadata": {},
   "source": [
    "## 模型预测"
   ]
  },
  {
   "cell_type": "markdown",
   "id": "4a925494-e55e-43df-87cb-0e329ebbf09d",
   "metadata": {},
   "source": [
    "我们准备了两个测试用例来验证模型是否有效。\n",
    "\n",
    "1. 我喜欢这部电影\n",
    "2. 它很差劲\n",
    "\n",
    "模型对前一个句子的分类结果为积极，对一个句子的分类结果为消极。"
   ]
  },
  {
   "cell_type": "code",
   "execution_count": 8,
   "id": "1a81056a-71c9-4658-bfa9-4b4c3aa9d66a",
   "metadata": {},
   "outputs": [
    {
     "name": "stdout",
     "output_type": "stream",
     "text": [
      "+-----------------+---+\n",
      "|clean_text       |_2 |\n",
      "+-----------------+---+\n",
      "|I like this movie|{} |\n",
      "|It is so bad     |{} |\n",
      "+-----------------+---+\n",
      "\n"
     ]
    },
    {
     "name": "stderr",
     "output_type": "stream",
     "text": [
      "22/01/16 12:32:04 WARN DAGScheduler: Broadcasting large task binary with size 2.1 MiB\n",
      "22/01/16 12:32:04 WARN DAGScheduler: Broadcasting large task binary with size 2.1 MiB\n",
      "22/01/16 12:32:05 WARN DAGScheduler: Broadcasting large task binary with size 2.1 MiB\n"
     ]
    },
    {
     "name": "stdout",
     "output_type": "stream",
     "text": [
      "+-----------------+---+--------------------+--------------------+--------------------+--------------------+--------------------+--------------------+----------+\n",
      "|       clean_text| _2|              tokens|     filtered_tokens|         rawFeatures|  vectorizedFeatures|       rawPrediction|         probability|prediction|\n",
      "+-----------------+---+--------------------+--------------------+--------------------+--------------------+--------------------+--------------------+----------+\n",
      "|I like this movie| {}|[i, like, this, m...|[i, like, this, m...|(61505,[2,11578,4...|(61505,[2,11578,4...|[-15.575416022470...|[1.72061099333001...|       1.0|\n",
      "|     It is so bad| {}|   [it, is, so, bad]|   [it, is, so, bad]|(61505,[11,15663,...|(61505,[11,15663,...|[4.04521599411133...|[0.98279526175309...|       0.0|\n",
      "+-----------------+---+--------------------+--------------------+--------------------+--------------------+--------------------+--------------------+----------+\n",
      "\n",
      "+-----------------+----------+\n",
      "|       clean_text|prediction|\n",
      "+-----------------+----------+\n",
      "|I like this movie|       1.0|\n",
      "|     It is so bad|       0.0|\n",
      "+-----------------+----------+\n",
      "\n"
     ]
    },
    {
     "name": "stderr",
     "output_type": "stream",
     "text": [
      "22/01/16 12:32:05 WARN DAGScheduler: Broadcasting large task binary with size 2.0 MiB\n",
      "22/01/16 12:32:05 WARN DAGScheduler: Broadcasting large task binary with size 2.0 MiB\n",
      "22/01/16 12:32:05 WARN DAGScheduler: Broadcasting large task binary with size 2.0 MiB\n"
     ]
    }
   ],
   "source": [
    "inputText = spark.createDataFrame([(\"I like this movie\",StringType()),\n",
    "                                   (\"It is so bad\",StringType())],\n",
    "                                  [\"clean_text\"])\n",
    "inputText.show(truncate=False)\n",
    "inputText = preprocessModel.transform(inputText)\n",
    "inputPrediction = lr_model.transform(inputText)\n",
    "inputPrediction.show()\n",
    "inputPrediction.select(['clean_text', 'prediction']).show()"
   ]
  },
  {
   "cell_type": "markdown",
   "id": "2df814c6-3198-4e23-b561-53fbf9523d1f",
   "metadata": {},
   "source": [
    "## 模型比较\n",
    "\n",
    "在 logistic 模型的基础上，我们还搭建了随机森林模型、梯度助推树模型、决策树模型。\n",
    "\n",
    "> 此处对计算性能要求较高，请提交至集群进行计算"
   ]
  },
  {
   "cell_type": "code",
   "execution_count": null,
   "id": "fd949e5f-5f4e-4b8f-8a7a-164e79f49a05",
   "metadata": {},
   "outputs": [],
   "source": [
    "def logisticCV(trainDF, testDF):\n",
    "    lr = LogisticRegression(featuresCol='vectorizedFeatures',labelCol='label')\n",
    "    model = lr.fit(trainDF)\n",
    "    prediction = model.transform(testDF)\n",
    "    evaluator = MulticlassClassificationEvaluator(labelCol='label',predictionCol='prediction',metricName='accuracy')\n",
    "    accuracy = evaluator.evaluate(prediction)\n",
    "    print('Accuracy of logistic regression: %g' % accuracy)\n",
    "\n",
    "def RandomForest(trainDF, testDF):\n",
    "    rf = RandomForestClassifier(featuresCol='vectorizedFeatures',labelCol='label')\n",
    "    model = rf.fit(trainDF)\n",
    "    prdiction = model.transform(testDF)\n",
    "    evaluator = MulticlassClassificationEvaluator(labelCol='label',predictionCol='prediction',metricName='accuracy')\n",
    "    accuracy = evaluator.evaluate(prediction)\n",
    "    print('Accuracy of random forest: %g' % accuracy)\n",
    "\n",
    "def GBT(trainDF, testDF):\n",
    "    gbt = GBTClassifier(featuresCol='vectorizedFeatures',labelCol='label')\n",
    "    model = gbt.fit(trainDF)\n",
    "    prdiction = model.transform(testDF)\n",
    "    evaluator = MulticlassClassificationEvaluator(labelCol='label',predictionCol='prediction',metricName='accuracy')\n",
    "    accuracy = evaluator.evaluate(prediction)\n",
    "    print('Accuracy of gbt: %g' % accuracy)\n",
    "\n",
    "def DecisionTree(trainDF, testDF):\n",
    "    dt = DecisionTreeClassifier(featuresCol='vectorizedFeatures',labelCol='label')\n",
    "    model = dt.fit(trainDF)\n",
    "    prdiction = model.transform(testDF)\n",
    "    evaluator = MulticlassClassificationEvaluator(labelCol='label',predictionCol='prediction',metricName='accuracy')\n",
    "    accuracy = evaluator.evaluate(prediction)\n",
    "    print('Accuracy of decision tree: %g' % accuracy)\n",
    "\n",
    "logisticCV(trainDF, testDF)\n",
    "RandomForest(trainDF, testDF)\n",
    "GBT(trainDF, testDF)\n",
    "DecisionTree(trainDF, testDF)"
   ]
  },
  {
   "cell_type": "markdown",
   "id": "a9d25775-c416-442a-91a4-c7e116491c93",
   "metadata": {},
   "source": [
    "## 模型调参\n",
    "\n",
    "我们使用网格搜索的方式对几个模型的超参数进行调整，选取最优的模型"
   ]
  },
  {
   "cell_type": "code",
   "execution_count": null,
   "id": "23f56213-6db1-4ec7-8acb-8b179dea5b9e",
   "metadata": {},
   "outputs": [],
   "source": [
    "def logisticCV(trainDF, testDF):\n",
    "    lr = LogisticRegression(featuresCol='vectorizedFeatures',labelCol='label')\n",
    "    pipeline = Pipeline(stages=[lr])\n",
    "    paramGrid = ParamGridBuilder() \\\n",
    "        .addGrid(lr.regParam, [0, 0.5, 2.0]) \\\n",
    "        .addGrid(lr.elasticNetParam, [0.0, 0.5, 1.0]) \\\n",
    "        .addGrid(lr.maxIter, [50, 100, 200]) \\\n",
    "        .build() \n",
    "    evaluator = MulticlassClassificationEvaluator(labelCol='label',predictionCol='prediction',metricName='accuracy')\n",
    "    crossValidator = CrossValidator(estimator=pipeline, \n",
    "                                    evaluator=evaluator,\n",
    "                                    estimatorParamMaps=paramGrid,\n",
    "                                    numFolds=5)\n",
    "    cv = crossValidator.fit(trainDF)\n",
    "    best_model = cv.bestModel.stages[0]\n",
    "    prediction = best_model.transform(testDF)\n",
    "    accuracy = evaluator.evaluate(prediction)\n",
    "    print('Accuracy in Cross Validation of logistic regression: %g' % accuracy)\n",
    "\n",
    "def RandomForestCV(trainDF, testDF):\n",
    "    rf = RandomForestClassifier(featuresCol='vectorizedFeatures',labelCol='label')\n",
    "    pipeline = Pipeline(stages=[rf])\n",
    "    paramGrid = ParamGridBuilder() \\\n",
    "        .addGrid(rf.maxDepth, [5, 10]) \\\n",
    "        .addGrid(rf.maxBins, [16, 32]) \\\n",
    "        .addGrid(rf.minInfoGain, [0, 0.01]) \\\n",
    "        .addGrid(rf.numTrees, [20, 60]) \\\n",
    "        .addGrid(rf.impurity, ['gini', 'entropy']) \\\n",
    "        .build() \n",
    "    evaluator = MulticlassClassificationEvaluator(labelCol='label',predictionCol='prediction',metricName='accuracy')\n",
    "    crossValidator = CrossValidator(estimator=pipeline, \n",
    "                                    evaluator=evaluator,\n",
    "                                    estimatorParamMaps=paramGrid,\n",
    "                                    numFolds=5)\n",
    "    cv = crossValidator.fit(trainDF)\n",
    "    best_model = cv.bestModel.stages[0]\n",
    "    prediction = best_model.transform(testDF)\n",
    "    accuracy = evaluator.evaluate(prediction)\n",
    "    print('Accuracy in Cross Validation of random forest: %g' % accuracy)\n",
    "\n",
    "def GBTClassifierCV(trainDF, testDF):\n",
    "    gbt = GBTClassifier(featuresCol='vectorizedFeatures',labelCol='label')\n",
    "    pipeline = Pipeline(stages=[gbt])\n",
    "    paramGrid = ParamGridBuilder() \\\n",
    "        .addGrid(gbt.maxDepth, [5, 10]) \\\n",
    "        .addGrid(gbt.maxBins, [16, 32]) \\\n",
    "        .addGrid(gbt.minInfoGain, [0, 0.01]) \\\n",
    "        .addGrid(gbt.maxIter, [10, 20]) \\\n",
    "        .addGrid(gbt.stepSize, [0.1, 0.2]) \\\n",
    "        .build() \n",
    "    evaluator = MulticlassClassificationEvaluator(labelCol='label',predictionCol='prediction',metricName='accuracy')\n",
    "    crossValidator = CrossValidator(estimator=pipeline, \n",
    "                                    evaluator=evaluator,\n",
    "                                    estimatorParamMaps=paramGrid,\n",
    "                                    numFolds=5)\n",
    "    cv = crossValidator.fit(trainDF)\n",
    "    best_model = cv.bestModel.stages[0]\n",
    "    prediction = best_model.transform(testDF)\n",
    "    accuracy = evaluator.evaluate(prediction)\n",
    "    print('Accuracy in Cross Validation of GBT: %g' % accuracy)\n",
    "\n",
    "def DecisionTreeCV(trainDF, testDF):\n",
    "    dt = DecisionTreeClassifier(featuresCol='vectorizedFeatures',labelCol='label')\n",
    "    pipeline = Pipeline(stages=[dt])\n",
    "    paramGrid = ParamGridBuilder() \\\n",
    "        .addGrid(dt.maxDepth, [5, 10]) \\\n",
    "        .addGrid(dt.maxBins, [16, 32]) \\\n",
    "        .addGrid(dt.minInfoGain, [0, 0.01]) \\\n",
    "        .addGrid(dt.minWeightFractionPerNode, [0, 0.5]) \\\n",
    "        .addGrid(dt.impurity, ['gini', 'entropy']) \\\n",
    "        .build() \n",
    "    evaluator = MulticlassClassificationEvaluator(labelCol='label',predictionCol='prediction',metricName='accuracy')\n",
    "    crossValidator = CrossValidator(estimator=pipeline, \n",
    "                                    evaluator=evaluator,\n",
    "                                    estimatorParamMaps=paramGrid,\n",
    "                                    numFolds=5)\n",
    "    cv = crossValidator.fit(trainDF)\n",
    "    best_model = cv.bestModel.stages[0]\n",
    "    prediction = best_model.transform(testDF)\n",
    "    accuracy = evaluator.evaluate(prediction)\n",
    "    print('Accuracy in Cross Validation of GBT: %g' % accuracy)\n",
    "\n",
    "logisticCV(trainDF, testDF)\n",
    "RandomForestCV(trainDF, testDF)\n",
    "GBTClassifierCV(trainDF, testDF)\n",
    "DecisionTreeCV(trainDF, testDF)"
   ]
  },
  {
   "cell_type": "markdown",
   "id": "c891235e",
   "metadata": {},
   "source": [
    "# 参考文献\n",
    "\n",
    "- [Decoupled Weight Decay Regularization](https://arxiv.org/abs/1711.05101)\n",
    "- [BBERT: Pre-training of Deep Bidirectional Transformers for Language UnderstandingERT](https://arxiv.org/abs/1810.04805)"
   ]
  }
 ],
 "metadata": {
  "colab": {
   "collapsed_sections": [],
   "name": "classify_text_with_bert.ipynb",
   "provenance": [],
   "toc_visible": true
  },
  "kernelspec": {
   "display_name": "Python 3 (ipykernel)",
   "language": "python",
   "name": "python3"
  },
  "language_info": {
   "codemirror_mode": {
    "name": "ipython",
    "version": 3
   },
   "file_extension": ".py",
   "mimetype": "text/x-python",
   "name": "python",
   "nbconvert_exporter": "python",
   "pygments_lexer": "ipython3",
   "version": "3.9.7"
  },
  "toc-autonumbering": true,
  "toc-showcode": false,
  "toc-showmarkdowntxt": false,
  "toc-showtags": false
 },
 "nbformat": 4,
 "nbformat_minor": 5
}
